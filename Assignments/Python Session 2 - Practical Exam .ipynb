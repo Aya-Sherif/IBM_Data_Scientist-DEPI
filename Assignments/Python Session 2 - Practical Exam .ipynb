{
 "cells": [
  {
   "cell_type": "markdown",
   "metadata": {},
   "source": [
    "# Part 1: Lists and List Slicing (20 points)"
   ]
  },
  {
   "cell_type": "markdown",
   "metadata": {},
   "source": [
    "### 1. Create a list of 10 integers ranging from 1 to 20. Then, do the following: \n",
    "o Extract and print the first 5 elements of the list. <br>\n",
    "o Extract and print the last 3 elements using negative indexing.<br> \n",
    "o Extract and print all elements from index 3 to index 7."
   ]
  },
  {
   "cell_type": "code",
   "execution_count": 1,
   "metadata": {},
   "outputs": [],
   "source": [
    "import random"
   ]
  },
  {
   "cell_type": "code",
   "execution_count": 2,
   "metadata": {},
   "outputs": [
    {
     "name": "stdout",
     "output_type": "stream",
     "text": [
      "[3, 9, 6, 2, 1, 18, 6, 3, 7, 12]\n"
     ]
    }
   ],
   "source": [
    "Integers=[]\n",
    "for i in range(10):\n",
    "    Integers.append(random.randrange(1,20))\n",
    "print(Integers)"
   ]
  },
  {
   "cell_type": "code",
   "execution_count": 3,
   "metadata": {},
   "outputs": [
    {
     "name": "stdout",
     "output_type": "stream",
     "text": [
      "[3, 9, 6, 2, 1]\n"
     ]
    }
   ],
   "source": [
    "# print the first 5 elements of the list\n",
    "print(Integers[0:5])"
   ]
  },
  {
   "cell_type": "code",
   "execution_count": 4,
   "metadata": {},
   "outputs": [
    {
     "data": {
      "text/plain": [
       "[3, 7, 12]"
      ]
     },
     "execution_count": 4,
     "metadata": {},
     "output_type": "execute_result"
    }
   ],
   "source": [
    "#  Extract and print the last 3 elements using negative indexing.\n",
    "Integers[-3:]"
   ]
  },
  {
   "cell_type": "code",
   "execution_count": 5,
   "metadata": {},
   "outputs": [
    {
     "data": {
      "text/plain": [
       "[2, 1, 18, 6, 3]"
      ]
     },
     "execution_count": 5,
     "metadata": {},
     "output_type": "execute_result"
    }
   ],
   "source": [
    "#Extract and print all elements from index 3 to index 7\n",
    "Integers[3:8]"
   ]
  },
  {
   "cell_type": "markdown",
   "metadata": {},
   "source": [
    "### 2. Write a Python program that: \n",
    "o Creates a list of 5 different fruits. <br>\n",
    "o Add two more fruits to the list. <br>\n",
    "o Remove the last fruit in the list. <br>\n",
    "o Print the updated list."
   ]
  },
  {
   "cell_type": "code",
   "execution_count": 6,
   "metadata": {},
   "outputs": [],
   "source": [
    "#Creates a list of 5 different fruits.\n",
    "fruits=['apple','banana','mango','beach','watermellon']"
   ]
  },
  {
   "cell_type": "code",
   "execution_count": 7,
   "metadata": {},
   "outputs": [
    {
     "data": {
      "text/plain": [
       "['apple', 'banana', 'mango', 'beach', 'watermellon', 'graapes', 'dates']"
      ]
     },
     "execution_count": 7,
     "metadata": {},
     "output_type": "execute_result"
    }
   ],
   "source": [
    "#Add two more fruits to the list.\n",
    "fruits.append('graapes')\n",
    "fruits.append('dates')\n",
    "fruits"
   ]
  },
  {
   "cell_type": "code",
   "execution_count": 8,
   "metadata": {},
   "outputs": [
    {
     "data": {
      "text/plain": [
       "['apple', 'banana', 'mango', 'beach', 'watermellon', 'graapes']"
      ]
     },
     "execution_count": 8,
     "metadata": {},
     "output_type": "execute_result"
    }
   ],
   "source": [
    "#Remove the last fruit in the list.\n",
    "fruits.pop()\n",
    "fruits"
   ]
  },
  {
   "cell_type": "markdown",
   "metadata": {},
   "source": [
    "# Part 2: Tuples and Dictionaries"
   ]
  },
  {
   "cell_type": "markdown",
   "metadata": {},
   "source": [
    "### 3. Create a tuple that contains 5 different cities.<br> \n",
    "o Access and print the second city in the tuple. <br>\n",
    "o Try to change the value of the second city in the tuple and explain why it does \n",
    "not work. "
   ]
  },
  {
   "cell_type": "code",
   "execution_count": 9,
   "metadata": {},
   "outputs": [],
   "source": [
    "#Create a tuple that contains 5 different cities\n",
    "cities=('cairo','6th of october','banha','Tala','El Harm')\n"
   ]
  },
  {
   "cell_type": "code",
   "execution_count": 10,
   "metadata": {},
   "outputs": [
    {
     "data": {
      "text/plain": [
       "'6th of october'"
      ]
     },
     "execution_count": 10,
     "metadata": {},
     "output_type": "execute_result"
    }
   ],
   "source": [
    "# access and print the second city in the tuple.\n",
    "cities[1]"
   ]
  },
  {
   "cell_type": "code",
   "execution_count": 11,
   "metadata": {},
   "outputs": [
    {
     "ename": "TypeError",
     "evalue": "'tuple' object does not support item assignment",
     "output_type": "error",
     "traceback": [
      "\u001b[1;31m---------------------------------------------------------------------------\u001b[0m",
      "\u001b[1;31mTypeError\u001b[0m                                 Traceback (most recent call last)",
      "Cell \u001b[1;32mIn[11], line 1\u001b[0m\n\u001b[1;32m----> 1\u001b[0m \u001b[43mcities\u001b[49m\u001b[43m[\u001b[49m\u001b[38;5;241;43m1\u001b[39;49m\u001b[43m]\u001b[49m\u001b[38;5;241m=\u001b[39m\u001b[38;5;124m'\u001b[39m\u001b[38;5;124mSohag\u001b[39m\u001b[38;5;124m'\u001b[39m\n",
      "\u001b[1;31mTypeError\u001b[0m: 'tuple' object does not support item assignment"
     ]
    }
   ],
   "source": [
    "cities[1]='Sohag'"
   ]
  },
  {
   "cell_type": "markdown",
   "metadata": {},
   "source": [
    "#### Comment:\n",
    "The touple dosn't support updating elemnts "
   ]
  },
  {
   "cell_type": "markdown",
   "metadata": {},
   "source": [
    "### 4. Write a Python program that creates a dictionary with the following \n",
    "keys and values: <br>\n",
    "o 'name': 'John', 'age': 30, 'city': 'New York'. Then: <br>\n",
    "o Print the value of the 'age' key. <br>\n",
    "o Add a new key-value pair 'job': 'Engineer' to the dictionary.<br> \n",
    "o Remove the 'city' key and print the updated dictionary. "
   ]
  },
  {
   "cell_type": "code",
   "execution_count": 12,
   "metadata": {},
   "outputs": [],
   "source": [
    "#Creates a dictionary\n",
    "person={\n",
    "    'name': 'John',\n",
    "    'age': 30,\n",
    "    'city': 'New York'\n",
    "}"
   ]
  },
  {
   "cell_type": "code",
   "execution_count": 13,
   "metadata": {},
   "outputs": [
    {
     "data": {
      "text/plain": [
       "30"
      ]
     },
     "execution_count": 13,
     "metadata": {},
     "output_type": "execute_result"
    }
   ],
   "source": [
    "#Print the value of the 'age' key.\n",
    "person['age']"
   ]
  },
  {
   "cell_type": "code",
   "execution_count": 14,
   "metadata": {},
   "outputs": [
    {
     "data": {
      "text/plain": [
       "{'name': 'John',\n",
       " 'age': 30,\n",
       " 'city': 'New York',\n",
       " 'job': 'Engineer',\n",
       " 'university': 'cairo'}"
      ]
     },
     "execution_count": 14,
     "metadata": {},
     "output_type": "execute_result"
    }
   ],
   "source": [
    "#Add a new key-value pair 'job': 'Engineer' to the dictionary.\n",
    "person['job']= 'Engineer'\n",
    "person.update(university='cairo')\n",
    "person"
   ]
  },
  {
   "cell_type": "code",
   "execution_count": 15,
   "metadata": {},
   "outputs": [],
   "source": [
    "#Remove the 'city'& 'university' key \n",
    "person.pop('city')\n",
    "del person['university']"
   ]
  },
  {
   "cell_type": "code",
   "execution_count": 50,
   "metadata": {},
   "outputs": [
    {
     "data": {
      "text/plain": [
       "{'name': 'John', 'age': 30, 'university': 'cairo'}"
      ]
     },
     "execution_count": 50,
     "metadata": {},
     "output_type": "execute_result"
    }
   ],
   "source": [
    "person"
   ]
  },
  {
   "cell_type": "markdown",
   "metadata": {},
   "source": [
    " ### 5. Write a Python program that: \n",
    "o Creates a dictionary to store the names and ages of 3 people. <br>\n",
    "o Print each person's name and their corresponding age using a loop."
   ]
  },
  {
   "cell_type": "code",
   "execution_count": 65,
   "metadata": {},
   "outputs": [],
   "source": [
    "#Creates a dictionary to store the names and ages of 3 people.\n",
    "persons={\n",
    "    0:{'name':'Ahmed','age':30},\n",
    "    1:{'name':'Adham','age':21},\n",
    "    2:{'name':'Aya','age':22},\n",
    "}\n"
   ]
  },
  {
   "cell_type": "code",
   "execution_count": 67,
   "metadata": {},
   "outputs": [
    {
     "name": "stdout",
     "output_type": "stream",
     "text": [
      "Ahmed : 30\n",
      "Adham : 21\n",
      "Aya : 22\n"
     ]
    }
   ],
   "source": [
    "#Print each person's name and their corresponding age using a loop.\n",
    "for i in range(3):\n",
    "    print(persons[i]['name'],':',persons[i]['age'])"
   ]
  },
  {
   "cell_type": "code",
   "execution_count": 72,
   "metadata": {},
   "outputs": [
    {
     "name": "stdout",
     "output_type": "stream",
     "text": [
      "Ahmed : 30\n",
      "Adham : 21\n",
      "Aya : 22\n"
     ]
    }
   ],
   "source": [
    "# another way\n",
    "persons={\n",
    "    'Ahmed':30,\n",
    "    'Adham':21,\n",
    "    'Aya':22\n",
    "}\n",
    "for i in persons:\n",
    "    print(i,':',persons[i])"
   ]
  },
  {
   "cell_type": "markdown",
   "metadata": {},
   "source": [
    "# Part 3: Conditional Statements \n"
   ]
  },
  {
   "cell_type": "markdown",
   "metadata": {},
   "source": [
    "### 6. Write a Python program that takes the user's age as input and prints: \n",
    "o 'Adult' if the age is 18 or older. <br>\n",
    "o 'Minor' if the age is less than 18. "
   ]
  },
  {
   "cell_type": "code",
   "execution_count": null,
   "metadata": {},
   "outputs": [
    {
     "name": "stdout",
     "output_type": "stream",
     "text": [
      "Minor\n"
     ]
    }
   ],
   "source": [
    "# 'Adult' if the age is 18 or older.\n",
    "age=int(input('Enter your age:'))\n",
    "if age>18:\n",
    "    print('Adult')\n",
    "else:\n",
    "    print('Minor')"
   ]
  },
  {
   "cell_type": "markdown",
   "metadata": {},
   "source": [
    "### 7.  Write a Python program that checks if a number entered by the user is: \n",
    "o 'Even' if it is divisible by 2. <br>\n",
    "o 'Odd' if it is not divisible by 2. "
   ]
  },
  {
   "cell_type": "code",
   "execution_count": null,
   "metadata": {},
   "outputs": [
    {
     "name": "stdout",
     "output_type": "stream",
     "text": [
      "even\n"
     ]
    }
   ],
   "source": [
    "num=int(input('Enter a number :'))\n",
    "\n",
    "if num%2==0:\n",
    "    print('The number is: Even')\n",
    "else:\n",
    "    print('The number is: Odd')"
   ]
  },
  {
   "cell_type": "markdown",
   "metadata": {},
   "source": [
    "### 8.Write a Python program that: \n",
    "o Takes a score from the user and prints the grade based on the following criteria:<br> \n",
    "▪ 90 and above: 'A' <br>\n",
    "▪ 70-89: 'B' <br>\n",
    "▪ 50-69: 'C' <br>\n",
    "▪ Below 50: 'F' "
   ]
  },
  {
   "cell_type": "code",
   "execution_count": null,
   "metadata": {},
   "outputs": [
    {
     "name": "stdout",
     "output_type": "stream",
     "text": [
      "Your Score Is: 'C'\n"
     ]
    }
   ],
   "source": [
    "grade=float(input('Enter your grade :'))\n",
    "if grade>=90:\n",
    "    print(\"Your Score Is: 'A'\")\n",
    "elif grade<90 and grade>=70:\n",
    "        print(\"Your Score Is: 'B'\")\n",
    "elif grade<70 and grade>=50:\n",
    "        print(\"Your Score Is: 'C'\")\n",
    "elif grade<50:\n",
    "        print(\"Your Score Is: 'F'\")\n",
    "\n"
   ]
  },
  {
   "cell_type": "markdown",
   "metadata": {},
   "source": [
    "# Part 4: Loops"
   ]
  },
  {
   "cell_type": "markdown",
   "metadata": {},
   "source": [
    "### 9.  Write a Python program that uses a for loop to print all even numbers between 1 and 20."
   ]
  },
  {
   "cell_type": "code",
   "execution_count": null,
   "metadata": {},
   "outputs": [
    {
     "name": "stdout",
     "output_type": "stream",
     "text": [
      "2\n",
      "4\n",
      "6\n",
      "8\n",
      "10\n",
      "12\n",
      "14\n",
      "16\n",
      "18\n",
      "20\n"
     ]
    }
   ],
   "source": [
    "for i in range(20):\n",
    "    if(i+1)%2==0:\n",
    "        print((i+1))\n",
    "\n"
   ]
  },
  {
   "cell_type": "markdown",
   "metadata": {},
   "source": [
    "### 10.  Write a Python program that uses a while loop to print the numbers from 10 to 1, in descending order. "
   ]
  },
  {
   "cell_type": "code",
   "execution_count": 88,
   "metadata": {},
   "outputs": [
    {
     "name": "stdout",
     "output_type": "stream",
     "text": [
      "10\n",
      "9\n",
      "8\n",
      "7\n",
      "6\n",
      "5\n",
      "4\n",
      "3\n",
      "2\n",
      "1\n"
     ]
    }
   ],
   "source": [
    "num=10\n",
    "while num>0:\n",
    "    print(num)\n",
    "    num-=1\n"
   ]
  },
  {
   "cell_type": "markdown",
   "metadata": {},
   "source": [
    "### 11. Write a Python program that: \n",
    "• Asks the user to input a number. <br>\n",
    "• Then, using a for loop, calculates the sum of all numbers from 1 to the entered number (inclusive) and prints the result."
   ]
  },
  {
   "cell_type": "code",
   "execution_count": 92,
   "metadata": {},
   "outputs": [
    {
     "name": "stdout",
     "output_type": "stream",
     "text": [
      "THe Sum is : 15\n"
     ]
    }
   ],
   "source": [
    "num=int(input('Enter a Number: '))\n",
    "sum=0\n",
    "for i in range(num):\n",
    "    sum+=(i+1)\n",
    "\n",
    "print('THe Sum is :',sum)"
   ]
  },
  {
   "cell_type": "markdown",
   "metadata": {},
   "source": [
    "# Part 5: Input Function and User Interaction "
   ]
  },
  {
   "cell_type": "markdown",
   "metadata": {},
   "source": [
    "### 12. Write a Python program that asks the user for their name and age, then prints a message saying: \"Hello, [name]! You are [age] years old.\" "
   ]
  },
  {
   "cell_type": "code",
   "execution_count": 93,
   "metadata": {},
   "outputs": [
    {
     "name": "stdout",
     "output_type": "stream",
     "text": [
      "Hello, Aya! You are 22 years old.\n"
     ]
    }
   ],
   "source": [
    "name=input('Please,Enter Your Name: ')\n",
    "age=int(input('Please,Enter Your age: '))\n",
    "\n",
    "print(f\"Hello, {name}! You are {age} years old.\" )"
   ]
  },
  {
   "cell_type": "markdown",
   "metadata": {},
   "source": [
    "### 13. Write a Python program that asks the user for their favorite color and checks if it is 'blue'. If it is, print \"You have great taste!\", otherwise print \"That's a nice color too!\""
   ]
  },
  {
   "cell_type": "code",
   "execution_count": 94,
   "metadata": {},
   "outputs": [
    {
     "name": "stdout",
     "output_type": "stream",
     "text": [
      "You have greate test!\n"
     ]
    }
   ],
   "source": [
    "user_color=input(\"Please, Enter you favorite color\")\n",
    "\n",
    "if user_color.lower()=='blue':\n",
    "    print('You have greate test!')\n",
    "else:\n",
    "    print(\"That's a nice color too! \")"
   ]
  },
  {
   "cell_type": "markdown",
   "metadata": {},
   "source": [
    "# Bonus Question"
   ]
  },
  {
   "cell_type": "markdown",
   "metadata": {},
   "source": [
    "### Write a Python program that asks the user to enter a list of 5 numbers. \n",
    "Then: \n",
    "• Calculate and print the average of the numbers. \n",
    "• Print the largest and smallest numbers from the list."
   ]
  },
  {
   "cell_type": "code",
   "execution_count": null,
   "metadata": {},
   "outputs": [],
   "source": [
    "nums=[]\n",
    "for i in range(5):\n",
    "    num=int(input(f'Enter the num{i+1} : '))\n",
    "    nums.append(num)\n",
    "    "
   ]
  },
  {
   "cell_type": "code",
   "execution_count": null,
   "metadata": {},
   "outputs": [
    {
     "name": "stdout",
     "output_type": "stream",
     "text": [
      "3.0\n"
     ]
    }
   ],
   "source": [
    "#• Calculate and print the average of the numbers. \n",
    "sum=0;\n",
    "for i in nums:\n",
    "    sum+=i\n",
    "avarage=sum/5\n",
    "print(avarage)\n"
   ]
  },
  {
   "cell_type": "code",
   "execution_count": 100,
   "metadata": {},
   "outputs": [
    {
     "name": "stdout",
     "output_type": "stream",
     "text": [
      "The largest number is : 5\n",
      "The smallest number is : 1\n"
     ]
    }
   ],
   "source": [
    "# Print the largest and smallest numbers from the list.\n",
    "print(\"The largest number is :\",max(nums))\n",
    "print(\"The smallest number is :\",min(nums))\n"
   ]
  }
 ],
 "metadata": {
  "kernelspec": {
   "display_name": "Python 3",
   "language": "python",
   "name": "python3"
  },
  "language_info": {
   "codemirror_mode": {
    "name": "ipython",
    "version": 3
   },
   "file_extension": ".py",
   "mimetype": "text/x-python",
   "name": "python",
   "nbconvert_exporter": "python",
   "pygments_lexer": "ipython3",
   "version": "3.13.0"
  }
 },
 "nbformat": 4,
 "nbformat_minor": 2
}
