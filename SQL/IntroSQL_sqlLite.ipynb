{
 "cells": [
  {
   "cell_type": "code",
   "execution_count": 1,
   "metadata": {},
   "outputs": [],
   "source": [
    "import sqlite3"
   ]
  },
  {
   "cell_type": "code",
   "execution_count": 2,
   "metadata": {},
   "outputs": [],
   "source": [
    "# Create connection\n",
    "conn = sqlite3.connect('school.db') \n",
    "cursor = conn.cursor()"
   ]
  },
  {
   "cell_type": "code",
   "execution_count": 3,
   "metadata": {},
   "outputs": [
    {
     "data": {
      "text/plain": [
       "<sqlite3.Cursor at 0x1636cee3bc0>"
      ]
     },
     "execution_count": 3,
     "metadata": {},
     "output_type": "execute_result"
    }
   ],
   "source": [
    "# Create tables\n",
    "cursor.execute('''CREATE TABLE IF NOT EXISTS students (\n",
    "                id INTEGER PRIMARY KEY AUTOINCREMENT,\n",
    "                name TEXT, \n",
    "               age INTEGER, \n",
    "               gender TEXT )''')\n",
    "cursor.execute('''CREATE TABLE IF NOT EXISTS courses (\n",
    "                id INTEGER PRIMARY KEY AUTOINCREMENT,\n",
    "                name TEXT,\n",
    "                credits INTEGER )''')\n",
    "cursor.execute('''CREATE TABLE IF NOT EXISTS enrollments ( \n",
    "                id INTEGER PRIMARY KEY AUTOINCREMENT, \n",
    "                student_id INTEGER,\n",
    "                course_id INTEGER, \n",
    "                grade REAL, \n",
    "                FOREIGN KEY(student_id) REFERENCES students(id),\n",
    "                FOREIGN KEY(course_id) REFERENCES courses(id) )''')"
   ]
  },
  {
   "cell_type": "code",
   "execution_count": 4,
   "metadata": {},
   "outputs": [],
   "source": [
    "# Insert sample data\n",
    "\n",
    "cursor.executemany('INSERT INTO students (name, age, gender) VALUES (?, ?, ?)', [\n",
    "\n",
    "('Alice', 22, 'F'),\n",
    "\n",
    "('Bob', 20, 'M'),\n",
    "\n",
    "('Charlie', 23, 'M')\n",
    "\n",
    "])\n",
    "\n",
    "\n",
    "cursor.executemany('INSERT INTO courses (name, credits) VALUES (?, ?)', [\n",
    "\n",
    "('Math', 3),\n",
    "\n",
    "('Science', 4),\n",
    "\n",
    "('History', 2)\n",
    "\n",
    "])\n",
    "\n",
    "\n",
    "cursor.executemany('INSERT INTO enrollments (student_id, course_id, grade) VALUES (?, ?, ?)', [\n",
    "\n",
    "(1, 1, 85),\n",
    "\n",
    "(1, 2, 90),\n",
    "\n",
    "(2, 1, 78),\n",
    "\n",
    "(3, 3, 88)\n",
    "\n",
    "])\n",
    "\n",
    "\n",
    "conn.commit()"
   ]
  },
  {
   "cell_type": "code",
   "execution_count": 7,
   "metadata": {},
   "outputs": [
    {
     "name": "stdout",
     "output_type": "stream",
     "text": [
      "[(1, 'Alice', 22, 'F'), (2, 'Bob', 20, 'M'), (3, 'Charlie', 23, 'M')]\n"
     ]
    }
   ],
   "source": [
    "cursor.execute('SELECT * FROM students')\n",
    "print(cursor.fetchall())"
   ]
  },
  {
   "cell_type": "code",
   "execution_count": null,
   "metadata": {},
   "outputs": [
    {
     "data": {
      "text/plain": [
       "<sqlite3.Cursor at 0x1636cee3bc0>"
      ]
     },
     "execution_count": 8,
     "metadata": {},
     "output_type": "execute_result"
    }
   ],
   "source": [
    "# Insert a new Student \n",
    "cursor.execute(\"INSERT INTO students (name, age, gender) VALUES ('Amira', 22, 'F')\")\n",
    "conn.commit()\n"
   ]
  },
  {
   "cell_type": "code",
   "execution_count": 9,
   "metadata": {},
   "outputs": [
    {
     "name": "stdout",
     "output_type": "stream",
     "text": [
      "[(1, 'Alice', 22, 'F'), (2, 'Bob', 20, 'M'), (3, 'Charlie', 23, 'M'), (4, 'Amira', 22, 'F')]\n"
     ]
    }
   ],
   "source": [
    "cursor.execute('SELECT * FROM students')\n",
    "print(cursor.fetchall())"
   ]
  },
  {
   "cell_type": "code",
   "execution_count": 10,
   "metadata": {},
   "outputs": [
    {
     "name": "stdout",
     "output_type": "stream",
     "text": [
      "[(1, 'Alice', 22, 'F'), (3, 'Charlie', 23, 'M'), (4, 'Amira', 22, 'F')]\n"
     ]
    }
   ],
   "source": [
    "#filter Student order than 21 \n",
    "cursor.execute('SELECT * FROM students WHERE age>21')\n",
    "print(cursor.fetchall())"
   ]
  },
  {
   "cell_type": "code",
   "execution_count": null,
   "metadata": {},
   "outputs": [
    {
     "name": "stdout",
     "output_type": "stream",
     "text": [
      "[('Alice', 85.0), ('Alice', 90.0), ('Charlie', 88.0)]\n"
     ]
    }
   ],
   "source": [
    "cursor.execute('''SELECT s.name,e.grade \n",
    "               FROM students s \n",
    "               JOIN  enrollments e on s.id=e.student_id\n",
    "                WHERE grade BETWEEN 80 AND 90''')\n",
    "print(cursor.fetchall())"
   ]
  },
  {
   "cell_type": "code",
   "execution_count": 28,
   "metadata": {},
   "outputs": [
    {
     "name": "stdout",
     "output_type": "stream",
     "text": [
      "[(3, 'Charlie', 23, 'M'), (1, 'Alice', 22, 'F'), (4, 'Amira', 22, 'F'), (2, 'Bob', 20, 'M')]\n"
     ]
    }
   ],
   "source": [
    "cursor.execute('''SELECT * FROM students \n",
    "               ORDER BY age DESC''')\n",
    "print(cursor.fetchall())"
   ]
  },
  {
   "cell_type": "code",
   "execution_count": 29,
   "metadata": {},
   "outputs": [
    {
     "name": "stdout",
     "output_type": "stream",
     "text": [
      "[('Alice', 'Math'), ('Alice', 'Science'), ('Bob', 'Math'), ('Charlie', 'History')]\n"
     ]
    }
   ],
   "source": [
    "cursor.execute('''SELECT s.name,c.name \n",
    "               FROM students s \n",
    "               INNER JOIN  enrollments e on s.id=e.student_id\n",
    "               INNER JOIN  courses c on c.id=e.course_id\n",
    "           ''')\n",
    "print(cursor.fetchall())"
   ]
  },
  {
   "cell_type": "code",
   "execution_count": 40,
   "metadata": {},
   "outputs": [
    {
     "name": "stdout",
     "output_type": "stream",
     "text": [
      "[('Alice', 85.0, 'Math')]\n"
     ]
    }
   ],
   "source": [
    "cursor.execute('''SELECT s.name as student_Name, e.grade,c.name\n",
    "               FROM students s \n",
    "               JOIN enrollments e ON s.id = e.student_id\n",
    "               JOIN courses c ON c.id=e.course_id\n",
    "               WHERE c.name='Math' AND e.grade > 80''')\n",
    "print(cursor.fetchall())"
   ]
  }
 ],
 "metadata": {
  "kernelspec": {
   "display_name": "Python 3",
   "language": "python",
   "name": "python3"
  },
  "language_info": {
   "codemirror_mode": {
    "name": "ipython",
    "version": 3
   },
   "file_extension": ".py",
   "mimetype": "text/x-python",
   "name": "python",
   "nbconvert_exporter": "python",
   "pygments_lexer": "ipython3",
   "version": "3.13.0"
  }
 },
 "nbformat": 4,
 "nbformat_minor": 2
}
