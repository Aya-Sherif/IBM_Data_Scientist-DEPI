{
 "cells": [
  {
   "cell_type": "markdown",
   "metadata": {},
   "source": [
    "# Python Basics Exam - Solution "
   ]
  },
  {
   "cell_type": "markdown",
   "metadata": {},
   "source": [
    "# Section 1: Printing Messages \n",
    "1. Write a Python program to print the following message on the screen: \n",
    "\"Hello, Python learners! Today we start our coding journey.\" \n",
    "2. Challenge: Print a multi-line message using triple quotes that includes your name and \n",
    "favorite programming language. "
   ]
  },
  {
   "cell_type": "code",
   "execution_count": null,
   "metadata": {},
   "outputs": [
    {
     "name": "stdout",
     "output_type": "stream",
     "text": [
      "Hello, Python learners! Today we start our coding journey.\n",
      "Hello, Python learners! \n",
      "Today we start our coding journey.\n"
     ]
    }
   ],
   "source": [
    "print(\"Hello, Python learners! Today we start our coding journey.\")\n",
    "#challenge \n",
    "print(\"\"\"Hello, Python learners! \n",
    "Today we start our coding journey.\"\"\")"
   ]
  },
  {
   "cell_type": "markdown",
   "metadata": {},
   "source": [
    "# Section 2: Variables and Data Types \n",
    "1. Create a variable called age and assign it your age. Print a message that says, \"I am \n",
    "[age] years old.\" \n",
    "2. Challenge: Create three variables of different data types (integer, float, and string). Print \n",
    "each variable with a description of its data type. "
   ]
  },
  {
   "cell_type": "code",
   "execution_count": 1,
   "metadata": {},
   "outputs": [
    {
     "name": "stdout",
     "output_type": "stream",
     "text": [
      "I am 21 years old.\n"
     ]
    }
   ],
   "source": [
    "age=21\n",
    "print(f\"I am {age} years old.\")"
   ]
  },
  {
   "cell_type": "markdown",
   "metadata": {},
   "source": [
    "### challenge"
   ]
  },
  {
   "cell_type": "code",
   "execution_count": null,
   "metadata": {},
   "outputs": [
    {
     "name": "stdout",
     "output_type": "stream",
     "text": [
      "<class 'int'>\n",
      "<class 'str'>\n",
      "<class 'float'>\n"
     ]
    }
   ],
   "source": [
    "age=21\n",
    "name=\"Aya\"\n",
    "_float=0.01\n",
    "print(type(age))\n",
    "print(type(name))\n",
    "print(type(_float))"
   ]
  },
  {
   "cell_type": "markdown",
   "metadata": {},
   "source": [
    "# Section 3: Working with Strings \n",
    "1. Given the string text = \"Python is amazing\", write a program to extract and print the \n",
    "word \"amazing\" from it. \n",
    "2. Challenge: Concatenate two strings, first_name and last_name, with a space in between, and \n",
    "print the full name in uppercase. "
   ]
  },
  {
   "cell_type": "code",
   "execution_count": 3,
   "metadata": {},
   "outputs": [
    {
     "name": "stdout",
     "output_type": "stream",
     "text": [
      "amazing\n"
     ]
    }
   ],
   "source": [
    "text = \"Python is amazing\"\n",
    "\n",
    "word=text.split()[-1]\n",
    "print(word)\n"
   ]
  },
  {
   "cell_type": "markdown",
   "metadata": {},
   "source": [
    "### Challenge"
   ]
  },
  {
   "cell_type": "code",
   "execution_count": 5,
   "metadata": {},
   "outputs": [
    {
     "name": "stdout",
     "output_type": "stream",
     "text": [
      "AYA SHERIF\n",
      "HELLO, AYA SHERIF\n"
     ]
    }
   ],
   "source": [
    "First_Name='Aya'\n",
    "Last_Name='Sherif'\n",
    "name=First_Name+\" \"+Last_Name\n",
    "print(name.upper())\n",
    "print(f\"Hello, {First_Name} {Last_Name}\".upper())"
   ]
  },
  {
   "cell_type": "markdown",
   "metadata": {},
   "source": [
    "# Section 4: Basic Operations \n",
    "1. Write a program to calculate the area of a rectangle with a width of 5 and a height of \n",
    "10. \n",
    "2. Challenge: Create two numbers, a = 20 and b = 7, and print the result of each arithmetic \n",
    "operation: addition, subtraction, multiplication, division, and modulo. "
   ]
  },
  {
   "cell_type": "code",
   "execution_count": 22,
   "metadata": {},
   "outputs": [
    {
     "name": "stdout",
     "output_type": "stream",
     "text": [
      "Area of the Rectangle:  50\n"
     ]
    }
   ],
   "source": [
    "width=5\n",
    "height=10\n",
    "rectangleArea=width*height\n",
    "print(\"Area of the Rectangle: \",rectangleArea)"
   ]
  },
  {
   "cell_type": "markdown",
   "metadata": {},
   "source": [
    "### Challenge"
   ]
  },
  {
   "cell_type": "code",
   "execution_count": 23,
   "metadata": {},
   "outputs": [
    {
     "name": "stdout",
     "output_type": "stream",
     "text": [
      "\n",
      "Addition 27\n",
      "Sub 13\n",
      "Multibliction  140\n",
      "division 2.857142857142857\n",
      "Modulo 6\n",
      "    \n"
     ]
    }
   ],
   "source": [
    "a=20\n",
    "b=7\n",
    "print(\n",
    "  f\"\"\"\n",
    "Addition {a+b}\n",
    "Sub {a-b}\n",
    "Multibliction  {a*b}\n",
    "division {a/b}\n",
    "Modulo {a%b}\n",
    "    \"\"\"\n",
    "    \n",
    ")"
   ]
  },
  {
   "cell_type": "markdown",
   "metadata": {},
   "source": [
    "# Section 5: Lists and Tuples\n",
    "1. Create a list of five of your favorite foods. Print the entire list, then print the third \n",
    "item in the list. \n",
    "2. Challenge: Convert the list into a tuple, and try to change the first item in the tuple. Observe \n",
    "and explain the result. "
   ]
  },
  {
   "cell_type": "code",
   "execution_count": null,
   "metadata": {},
   "outputs": [
    {
     "name": "stdout",
     "output_type": "stream",
     "text": [
      "['fish', 'spagety', 'hawashey', 'rice', 'salad']\n",
      "hawashey\n"
     ]
    }
   ],
   "source": [
    "food=['fish','spagety','hawashey','rice','salad']\n",
    "print(\"Favorite Food\",food)\n",
    "print(food[2])"
   ]
  },
  {
   "cell_type": "markdown",
   "metadata": {},
   "source": [
    "### Challenge\n"
   ]
  },
  {
   "cell_type": "code",
   "execution_count": null,
   "metadata": {},
   "outputs": [
    {
     "ename": "TypeError",
     "evalue": "'tuple' object does not support item assignment",
     "output_type": "error",
     "traceback": [
      "\u001b[1;31m---------------------------------------------------------------------------\u001b[0m",
      "\u001b[1;31mTypeError\u001b[0m                                 Traceback (most recent call last)",
      "Cell \u001b[1;32mIn[10], line 2\u001b[0m\n\u001b[0;32m      1\u001b[0m food\u001b[38;5;241m=\u001b[39m(\u001b[38;5;124m'\u001b[39m\u001b[38;5;124mfish\u001b[39m\u001b[38;5;124m'\u001b[39m,\u001b[38;5;124m'\u001b[39m\u001b[38;5;124mspagety\u001b[39m\u001b[38;5;124m'\u001b[39m,\u001b[38;5;124m'\u001b[39m\u001b[38;5;124mhawashey\u001b[39m\u001b[38;5;124m'\u001b[39m,\u001b[38;5;124m'\u001b[39m\u001b[38;5;124mrice\u001b[39m\u001b[38;5;124m'\u001b[39m,\u001b[38;5;124m'\u001b[39m\u001b[38;5;124msalad\u001b[39m\u001b[38;5;124m'\u001b[39m)\n\u001b[1;32m----> 2\u001b[0m \u001b[43mfood\u001b[49m\u001b[43m[\u001b[49m\u001b[38;5;241;43m0\u001b[39;49m\u001b[43m]\u001b[49m\u001b[38;5;241m=\u001b[39m\u001b[38;5;124m'\u001b[39m\u001b[38;5;124mpotato\u001b[39m\u001b[38;5;124m'\u001b[39m\n",
      "\u001b[1;31mTypeError\u001b[0m: 'tuple' object does not support item assignment"
     ]
    }
   ],
   "source": [
    "food_tuple=tuple(food)\n",
    "food[0]='potato'"
   ]
  },
  {
   "cell_type": "markdown",
   "metadata": {},
   "source": [
    "Tuple don't support change "
   ]
  },
  {
   "cell_type": "markdown",
   "metadata": {},
   "source": [
    "# Section 6: String Manipulation and Slicing \n",
    "1. Given the string sentence = \"Learning Python is fun!\", write a program to slice and \n",
    "print the word \"Python\" from it. \n",
    "2. Challenge: Replace the word \"fun\" with \"awesome\" in the sentence and print the new \n",
    "sentence. "
   ]
  },
  {
   "cell_type": "code",
   "execution_count": 12,
   "metadata": {},
   "outputs": [
    {
     "name": "stdout",
     "output_type": "stream",
     "text": [
      "Python\n"
     ]
    }
   ],
   "source": [
    "sentence = \"Learning Python is fun!\"\n",
    "print(sentence.split()[1])"
   ]
  },
  {
   "cell_type": "markdown",
   "metadata": {},
   "source": [
    "### Challenge\n"
   ]
  },
  {
   "cell_type": "code",
   "execution_count": 19,
   "metadata": {},
   "outputs": [
    {
     "name": "stdout",
     "output_type": "stream",
     "text": [
      "Learning Python is awesome!\n"
     ]
    }
   ],
   "source": [
    "sentence = sentence.replace('fun', 'awesome')\n",
    "print(sentence)"
   ]
  },
  {
   "cell_type": "markdown",
   "metadata": {},
   "source": [
    "# Section 7: Dictionaries\n",
    "1. Create a dictionary called student with the keys name, age, and grade. Assign values \n",
    "to each key and print the dictionary. \n",
    "2. Challenge: Add a new key city to the dictionary and set it to any city name. Print the \n",
    "updated dictionary."
   ]
  },
  {
   "cell_type": "code",
   "execution_count": 16,
   "metadata": {},
   "outputs": [
    {
     "name": "stdout",
     "output_type": "stream",
     "text": [
      "{'name': 'aya', 'age': 21, 'grade': 'B'}\n"
     ]
    }
   ],
   "source": [
    "student={\n",
    "    'name':\"aya\",\n",
    "    'age':21,\n",
    "    'grade':'B'\n",
    "\n",
    "}\n",
    "print(student)"
   ]
  },
  {
   "cell_type": "markdown",
   "metadata": {},
   "source": [
    "### Challenge\n"
   ]
  },
  {
   "cell_type": "code",
   "execution_count": 20,
   "metadata": {},
   "outputs": [
    {
     "name": "stdout",
     "output_type": "stream",
     "text": [
      "{'name': 'aya', 'age': 21, 'grade': 'B', 'city': 'Giza'}\n"
     ]
    }
   ],
   "source": [
    "student['city']='Giza'\n",
    "print(student)"
   ]
  },
  {
   "cell_type": "markdown",
   "metadata": {},
   "source": [
    "# Section8: Basic Arithmetic Operations\n",
    "1. Write a program that takes two numbers from the user and prints their sum, \n",
    "difference, product, and division result. \n",
    "2. Challenge: Use the modulo operator to check if the first number is divisible by the second \n",
    "number, and print the result as \"Divisible\" or \"Not Divisible\". "
   ]
  },
  {
   "cell_type": "code",
   "execution_count": 24,
   "metadata": {},
   "outputs": [
    {
     "name": "stdout",
     "output_type": "stream",
     "text": [
      "\n",
      "Addition: 11.0\n",
      "Sub: -1.0\n",
      "Multibliction:  30.0\n",
      "Division: 0.8333333333333334\n",
      "    \n"
     ]
    }
   ],
   "source": [
    "a=float(input(\"Enter the First number: \"))\n",
    "b=float(input(\"Enter the Second number: \"))\n",
    "\n",
    "print(\n",
    "  f\"\"\"\n",
    "Addition: {a+b}\n",
    "Sub: {a-b}\n",
    "Multibliction:  {a*b}\n",
    "Division: {a/b}\n",
    "    \"\"\"\n",
    "    \n",
    ")"
   ]
  },
  {
   "cell_type": "markdown",
   "metadata": {},
   "source": [
    "### Challenge"
   ]
  },
  {
   "cell_type": "code",
   "execution_count": 25,
   "metadata": {},
   "outputs": [
    {
     "name": "stdout",
     "output_type": "stream",
     "text": [
      "Not Divisible\n"
     ]
    }
   ],
   "source": [
    "if a % b==0:\n",
    "    print(\"Divisible\")\n",
    "else:\n",
    "        print(\"Not Divisible\")\n"
   ]
  }
 ],
 "metadata": {
  "kernelspec": {
   "display_name": "Test",
   "language": "python",
   "name": "python3"
  },
  "language_info": {
   "codemirror_mode": {
    "name": "ipython",
    "version": 3
   },
   "file_extension": ".py",
   "mimetype": "text/x-python",
   "name": "python",
   "nbconvert_exporter": "python",
   "pygments_lexer": "ipython3",
   "version": "3.10.13"
  }
 },
 "nbformat": 4,
 "nbformat_minor": 2
}
